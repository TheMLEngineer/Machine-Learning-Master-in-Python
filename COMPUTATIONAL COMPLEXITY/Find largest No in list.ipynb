{
 "cells": [
  {
   "cell_type": "code",
   "execution_count": 1,
   "metadata": {},
   "outputs": [],
   "source": [
    "#Find largest No in list"
   ]
  },
  {
   "cell_type": "code",
   "execution_count": 2,
   "metadata": {},
   "outputs": [],
   "source": [
    "import pandas as pd"
   ]
  },
  {
   "cell_type": "code",
   "execution_count": 3,
   "metadata": {},
   "outputs": [],
   "source": [
    "import numpy as np"
   ]
  },
  {
   "cell_type": "code",
   "execution_count": 4,
   "metadata": {},
   "outputs": [],
   "source": [
    "import random"
   ]
  },
  {
   "cell_type": "code",
   "execution_count": 5,
   "metadata": {},
   "outputs": [],
   "source": [
    "l = list(range(100))"
   ]
  },
  {
   "cell_type": "code",
   "execution_count": 6,
   "metadata": {},
   "outputs": [
    {
     "data": {
      "text/plain": [
       "[0,\n",
       " 1,\n",
       " 2,\n",
       " 3,\n",
       " 4,\n",
       " 5,\n",
       " 6,\n",
       " 7,\n",
       " 8,\n",
       " 9,\n",
       " 10,\n",
       " 11,\n",
       " 12,\n",
       " 13,\n",
       " 14,\n",
       " 15,\n",
       " 16,\n",
       " 17,\n",
       " 18,\n",
       " 19,\n",
       " 20,\n",
       " 21,\n",
       " 22,\n",
       " 23,\n",
       " 24,\n",
       " 25,\n",
       " 26,\n",
       " 27,\n",
       " 28,\n",
       " 29,\n",
       " 30,\n",
       " 31,\n",
       " 32,\n",
       " 33,\n",
       " 34,\n",
       " 35,\n",
       " 36,\n",
       " 37,\n",
       " 38,\n",
       " 39,\n",
       " 40,\n",
       " 41,\n",
       " 42,\n",
       " 43,\n",
       " 44,\n",
       " 45,\n",
       " 46,\n",
       " 47,\n",
       " 48,\n",
       " 49,\n",
       " 50,\n",
       " 51,\n",
       " 52,\n",
       " 53,\n",
       " 54,\n",
       " 55,\n",
       " 56,\n",
       " 57,\n",
       " 58,\n",
       " 59,\n",
       " 60,\n",
       " 61,\n",
       " 62,\n",
       " 63,\n",
       " 64,\n",
       " 65,\n",
       " 66,\n",
       " 67,\n",
       " 68,\n",
       " 69,\n",
       " 70,\n",
       " 71,\n",
       " 72,\n",
       " 73,\n",
       " 74,\n",
       " 75,\n",
       " 76,\n",
       " 77,\n",
       " 78,\n",
       " 79,\n",
       " 80,\n",
       " 81,\n",
       " 82,\n",
       " 83,\n",
       " 84,\n",
       " 85,\n",
       " 86,\n",
       " 87,\n",
       " 88,\n",
       " 89,\n",
       " 90,\n",
       " 91,\n",
       " 92,\n",
       " 93,\n",
       " 94,\n",
       " 95,\n",
       " 96,\n",
       " 97,\n",
       " 98,\n",
       " 99]"
      ]
     },
     "execution_count": 6,
     "metadata": {},
     "output_type": "execute_result"
    }
   ],
   "source": [
    "l"
   ]
  },
  {
   "cell_type": "code",
   "execution_count": 7,
   "metadata": {},
   "outputs": [],
   "source": [
    "random.shuffle(l)"
   ]
  },
  {
   "cell_type": "code",
   "execution_count": 8,
   "metadata": {},
   "outputs": [
    {
     "data": {
      "text/plain": [
       "[44,\n",
       " 34,\n",
       " 95,\n",
       " 10,\n",
       " 40,\n",
       " 18,\n",
       " 85,\n",
       " 73,\n",
       " 79,\n",
       " 20,\n",
       " 92,\n",
       " 23,\n",
       " 90,\n",
       " 37,\n",
       " 28,\n",
       " 97,\n",
       " 32,\n",
       " 30,\n",
       " 33,\n",
       " 98,\n",
       " 1,\n",
       " 22,\n",
       " 0,\n",
       " 21,\n",
       " 78,\n",
       " 47,\n",
       " 60,\n",
       " 6,\n",
       " 80,\n",
       " 25,\n",
       " 12,\n",
       " 46,\n",
       " 27,\n",
       " 4,\n",
       " 7,\n",
       " 94,\n",
       " 89,\n",
       " 72,\n",
       " 91,\n",
       " 58,\n",
       " 35,\n",
       " 93,\n",
       " 45,\n",
       " 17,\n",
       " 14,\n",
       " 3,\n",
       " 69,\n",
       " 81,\n",
       " 11,\n",
       " 83,\n",
       " 5,\n",
       " 86,\n",
       " 51,\n",
       " 96,\n",
       " 52,\n",
       " 82,\n",
       " 99,\n",
       " 2,\n",
       " 56,\n",
       " 43,\n",
       " 62,\n",
       " 54,\n",
       " 64,\n",
       " 61,\n",
       " 71,\n",
       " 75,\n",
       " 55,\n",
       " 76,\n",
       " 13,\n",
       " 39,\n",
       " 16,\n",
       " 53,\n",
       " 65,\n",
       " 84,\n",
       " 50,\n",
       " 31,\n",
       " 48,\n",
       " 9,\n",
       " 66,\n",
       " 87,\n",
       " 70,\n",
       " 68,\n",
       " 29,\n",
       " 26,\n",
       " 77,\n",
       " 59,\n",
       " 36,\n",
       " 67,\n",
       " 8,\n",
       " 49,\n",
       " 57,\n",
       " 88,\n",
       " 41,\n",
       " 63,\n",
       " 74,\n",
       " 19,\n",
       " 24,\n",
       " 15,\n",
       " 38,\n",
       " 42]"
      ]
     },
     "execution_count": 8,
     "metadata": {},
     "output_type": "execute_result"
    }
   ],
   "source": [
    "l #Not sorted"
   ]
  },
  {
   "cell_type": "code",
   "execution_count": 9,
   "metadata": {},
   "outputs": [
    {
     "name": "stdout",
     "output_type": "stream",
     "text": [
      "Found\n"
     ]
    }
   ],
   "source": [
    "num = 31\n",
    "isFound = False\n",
    "for n in l:\n",
    "    if n == num:\n",
    "        print('Found')\n",
    "        isFound = True\n",
    "        break\n",
    "if isFound == False:\n",
    "    print('Not found')"
   ]
  },
  {
   "cell_type": "code",
   "execution_count": 10,
   "metadata": {},
   "outputs": [
    {
     "data": {
      "text/plain": [
       "'\\nTake above code as example,\\n\\nif each line takes 1 unit of time to run \\nThe overall time taken will be\\n\\n4n + 4\\n\\n(n comes here coz for loop runs n time)\\n\\n\\nIf u ignore the constants the computational complexity is 0(n)...\\n\\nSame like this we have 0(n squared), 0(log n)\\n etc\\n '"
      ]
     },
     "execution_count": 10,
     "metadata": {},
     "output_type": "execute_result"
    }
   ],
   "source": [
    "'''\n",
    "Take above code as example,\n",
    "\n",
    "if each line takes 1 unit of time to run \n",
    "The overall time taken will be\n",
    "\n",
    "4n + 4\n",
    "\n",
    "(n comes here coz for loop runs n time)\n",
    "\n",
    "\n",
    "If u ignore the constants the computational complexity is 0(n)...\n",
    "\n",
    "Same like this we have 0(n squared), 0(log n)\n",
    " etc\n",
    " '''"
   ]
  }
 ],
 "metadata": {
  "kernelspec": {
   "display_name": "Python 3",
   "language": "python",
   "name": "python3"
  },
  "language_info": {
   "codemirror_mode": {
    "name": "ipython",
    "version": 3
   },
   "file_extension": ".py",
   "mimetype": "text/x-python",
   "name": "python",
   "nbconvert_exporter": "python",
   "pygments_lexer": "ipython3",
   "version": "3.7.1"
  }
 },
 "nbformat": 4,
 "nbformat_minor": 2
}
