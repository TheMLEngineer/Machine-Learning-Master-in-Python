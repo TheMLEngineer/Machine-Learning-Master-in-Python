{
 "cells": [
  {
   "cell_type": "code",
   "execution_count": 1,
   "metadata": {},
   "outputs": [
    {
     "name": "stdout",
     "output_type": "stream",
     "text": [
      "22\n",
      "1\n",
      "21\n",
      "47\n",
      "10\n",
      "29\n",
      "15\n",
      "7\n",
      "30\n",
      "18\n",
      "27\n",
      "14\n",
      "28\n",
      "9\n",
      "39\n",
      "3\n",
      "5\n",
      "23\n",
      "31\n",
      "16\n",
      "48\n",
      "2\n",
      "41\n",
      "24\n",
      "26\n",
      "46\n",
      "34\n",
      "11\n",
      "25\n",
      "17\n",
      "20\n",
      "36\n",
      "32\n",
      "44\n",
      "35\n",
      "33\n",
      "12\n",
      "37\n",
      "42\n",
      "6\n",
      "8\n",
      "43\n",
      "49\n",
      "45\n",
      "0\n",
      "4\n",
      "38\n",
      "13\n",
      "19\n",
      "40\n",
      "No of common elements :  50\n"
     ]
    }
   ],
   "source": [
    "import random\n",
    "l1 = list(range(100))\n",
    "random.shuffle(l1)\n",
    "\n",
    "l2 = list(range(50))\n",
    "random.shuffle(l2)\n",
    "\n",
    "\n",
    "#Find common elements : 0(n * m)\n",
    "cnt = 0;\n",
    "for i in l1:\n",
    "    for j in l2:\n",
    "        if i == j:\n",
    "            print(i)\n",
    "            cnt += 1;\n",
    "            \n",
    "print(\"No of common elements : \",cnt)"
   ]
  }
 ],
 "metadata": {
  "kernelspec": {
   "display_name": "Python 3",
   "language": "python",
   "name": "python3"
  },
  "language_info": {
   "codemirror_mode": {
    "name": "ipython",
    "version": 3
   },
   "file_extension": ".py",
   "mimetype": "text/x-python",
   "name": "python",
   "nbconvert_exporter": "python",
   "pygments_lexer": "ipython3",
   "version": "3.7.1"
  }
 },
 "nbformat": 4,
 "nbformat_minor": 2
}
