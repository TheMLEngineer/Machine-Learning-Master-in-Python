{
 "cells": [
  {
   "cell_type": "markdown",
   "metadata": {},
   "source": [
    "## Python if ... else statement"
   ]
  },
  {
   "cell_type": "markdown",
   "metadata": {},
   "source": [
    "for Indention we can use tab. but recommended is 4 spaces."
   ]
  },
  {
   "cell_type": "code",
   "execution_count": 1,
   "metadata": {},
   "outputs": [
    {
     "name": "stdout",
     "output_type": "stream",
     "text": [
      "Hello Karthik\n"
     ]
    }
   ],
   "source": [
    "n = 10\n",
    "if n>10:\n",
    "    print('n is > 10')#Prints if condition satisfied\n",
    "print('Hello Karthik')#Always printed"
   ]
  },
  {
   "cell_type": "code",
   "execution_count": 2,
   "metadata": {},
   "outputs": [
    {
     "name": "stdout",
     "output_type": "stream",
     "text": [
      "n is > 10\n",
      "Hello Karthik\n"
     ]
    }
   ],
   "source": [
    "n = 10\n",
    "if n==10:\n",
    "    print('n is > 10')#Prints if condition satisfied\n",
    "print('Hello Karthik')#Always printed"
   ]
  },
  {
   "cell_type": "code",
   "execution_count": 3,
   "metadata": {},
   "outputs": [
    {
     "name": "stdout",
     "output_type": "stream",
     "text": [
      "Hello Karthik\n"
     ]
    },
    {
     "data": {
      "text/plain": [
       "'\\n0 is taken as false so the lines of code inside the if loop is not executed\\n'"
      ]
     },
     "execution_count": 3,
     "metadata": {},
     "output_type": "execute_result"
    }
   ],
   "source": [
    "n = 10\n",
    "if 0:\n",
    "    print('n is > 10')#Prints if condition satisfied\n",
    "print('Hello Karthik')#Always printed\n",
    "'''\n",
    "0 is taken as false so the lines of code inside the if loop is not executed\n",
    "'''"
   ]
  },
  {
   "cell_type": "code",
   "execution_count": 4,
   "metadata": {},
   "outputs": [
    {
     "name": "stdout",
     "output_type": "stream",
     "text": [
      "n is > 10\n",
      "Hello Karthik\n"
     ]
    },
    {
     "data": {
      "text/plain": [
       "'\\nEven -1 is taken as True so the lines of code inside the if loop is executed.\\nEverything other than 0 and None and False is True.\\n'"
      ]
     },
     "execution_count": 4,
     "metadata": {},
     "output_type": "execute_result"
    }
   ],
   "source": [
    "n = 10\n",
    "if -1:\n",
    "    print('n is > 10')#Prints if condition satisfied\n",
    "print('Hello Karthik')#Always printed\n",
    "'''\n",
    "Even -1 is taken as True so the lines of code inside the if loop is executed.\n",
    "Everything other than 0 and None and False is True.\n",
    "'''"
   ]
  },
  {
   "cell_type": "code",
   "execution_count": 5,
   "metadata": {},
   "outputs": [
    {
     "name": "stdout",
     "output_type": "stream",
     "text": [
      "Hello Karthik\n"
     ]
    }
   ],
   "source": [
    "#None\n",
    "n = 10\n",
    "if None:\n",
    "    print('n is > 10')#Prints if condition satisfied\n",
    "print('Hello Karthik')#Always printed"
   ]
  },
  {
   "cell_type": "code",
   "execution_count": 6,
   "metadata": {},
   "outputs": [
    {
     "name": "stdout",
     "output_type": "stream",
     "text": [
      "Hello Karthik\n"
     ]
    }
   ],
   "source": [
    "#False\n",
    "n = 10\n",
    "if False:\n",
    "    print('n is > 10')#Prints if condition satisfied\n",
    "print('Hello Karthik')#Always printed"
   ]
  },
  {
   "cell_type": "code",
   "execution_count": 7,
   "metadata": {},
   "outputs": [
    {
     "name": "stdout",
     "output_type": "stream",
     "text": [
      "Positive number\n"
     ]
    }
   ],
   "source": [
    "n = 10\n",
    "if n>=0:\n",
    "    print('Positive number')\n",
    "else:\n",
    "    print('Not a positive number')"
   ]
  },
  {
   "cell_type": "code",
   "execution_count": 8,
   "metadata": {},
   "outputs": [
    {
     "name": "stdout",
     "output_type": "stream",
     "text": [
      "ZERO\n"
     ]
    }
   ],
   "source": [
    "n = 0\n",
    "if n>0:\n",
    "    print('Positive number')\n",
    "elif n==0:#elif means like else if in C or Java\n",
    "    print('ZERO')\n",
    "else:\n",
    "    print('Not a positive number')"
   ]
  },
  {
   "cell_type": "code",
   "execution_count": 9,
   "metadata": {},
   "outputs": [
    {
     "name": "stdout",
     "output_type": "stream",
     "text": [
      "Positive Number\n"
     ]
    }
   ],
   "source": [
    "n = 20.3\n",
    "if n >= 0:\n",
    "    if n == 0:\n",
    "        print('ZERO')\n",
    "    else:\n",
    "        print('Positive Number')\n",
    "else:\n",
    "    print('Not a positive number')"
   ]
  },
  {
   "cell_type": "markdown",
   "metadata": {},
   "source": [
    "## Largest of 3"
   ]
  },
  {
   "cell_type": "code",
   "execution_count": 10,
   "metadata": {},
   "outputs": [
    {
     "name": "stdout",
     "output_type": "stream",
     "text": [
      "Num 1: 3\n",
      "Num 2: 4\n",
      "Num 3: 5\n",
      "Num 3: 5 is largest\n"
     ]
    }
   ],
   "source": [
    "n1 = input('Num 1: ')\n",
    "n2 = input('Num 2: ')\n",
    "n3 = input('Num 3: ')\n",
    "if n1>n2 and n1>n3:\n",
    "    print('Num 1: {} is largest'.format(n1))\n",
    "elif n2>n1 and n2>n3:\n",
    "    print('Num 2: {} is largest'.format(n2))\n",
    "else:\n",
    "    print('Num 3: {} is largest'.format(n3))"
   ]
  }
 ],
 "metadata": {
  "kernelspec": {
   "display_name": "Python 3",
   "language": "python",
   "name": "python3"
  },
  "language_info": {
   "codemirror_mode": {
    "name": "ipython",
    "version": 3
   },
   "file_extension": ".py",
   "mimetype": "text/x-python",
   "name": "python",
   "nbconvert_exporter": "python",
   "pygments_lexer": "ipython3",
   "version": "3.7.1"
  }
 },
 "nbformat": 4,
 "nbformat_minor": 2
}
