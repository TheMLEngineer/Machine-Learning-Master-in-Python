{
 "cells": [
  {
   "cell_type": "markdown",
   "metadata": {},
   "source": [
    "## File I/O"
   ]
  },
  {
   "cell_type": "code",
   "execution_count": 1,
   "metadata": {},
   "outputs": [
    {
     "data": {
      "text/plain": [
       "'\\nFiles are stored in non-volatile memory (hard disk) ... not deleted when system turned off\\n\\ndata in RAM ( volatile memory ) deleted when system turned off\\n\\n3 operations are available in fils \\n1) open the file \\n2) read/write\\n3) close the file\\n'"
      ]
     },
     "execution_count": 1,
     "metadata": {},
     "output_type": "execute_result"
    }
   ],
   "source": [
    "'''\n",
    "Files are stored in non-volatile memory (hard disk) ... not deleted when system turned off\n",
    "\n",
    "data in RAM ( volatile memory ) deleted when system turned off\n",
    "\n",
    "3 operations are available in fils \n",
    "1) open the file \n",
    "2) read/write\n",
    "3) close the file\n",
    "'''"
   ]
  },
  {
   "cell_type": "code",
   "execution_count": 2,
   "metadata": {},
   "outputs": [],
   "source": [
    "f = open('abc.txt')"
   ]
  },
  {
   "cell_type": "code",
   "execution_count": 3,
   "metadata": {},
   "outputs": [],
   "source": [
    "f = open('abc.txt','w+')"
   ]
  },
  {
   "cell_type": "code",
   "execution_count": 4,
   "metadata": {},
   "outputs": [
    {
     "data": {
      "text/plain": [
       "\"\\nfor f = open('abc.txt') it gave an error coz file dosen't exist\\nbut in f = open('abc.txt','w+') also file dosen't exist but the w+ parameter creates the file in the run time\\n\""
      ]
     },
     "execution_count": 4,
     "metadata": {},
     "output_type": "execute_result"
    }
   ],
   "source": [
    "'''\n",
    "for f = open('abc.txt') it gave an error coz file dosen't exist\n",
    "but in f = open('abc.txt','w+') also file dosen't exist but the w+ parameter creates the file in the run time\n",
    "'''"
   ]
  },
  {
   "cell_type": "code",
   "execution_count": 5,
   "metadata": {},
   "outputs": [
    {
     "data": {
      "text/plain": [
       "\"\\nModes in a file:\\n\\nr -> read mode (defualt) \\nw -> writing ... Creates a new file if it does not exist or truncates the file if it exists.\\nx -> exclusive creation\\n'a' Open for appending at the end of the file without truncating it. Creates a new file if it does not exist.\\n\\n't' Open in text mode. (default)\\n\\n'b' Open in binary mode.\\n\\n'+' Open a file for updating (reading and writing)\\n\\n\\nThe default encoding is platform dependent. In windows, it is 'cp1252' but 'utf-8' in Linux.\\n\\nalways close a file otherwise the dta will be stuck in ram and will get deleted when system turns off\\n\""
      ]
     },
     "execution_count": 5,
     "metadata": {},
     "output_type": "execute_result"
    }
   ],
   "source": [
    "'''\n",
    "Modes in a file:\n",
    "\n",
    "r -> read mode (defualt) \n",
    "w -> writing ... Creates a new file if it does not exist or truncates the file if it exists.\n",
    "x -> exclusive creation\n",
    "'a' Open for appending at the end of the file without truncating it. Creates a new file if it does not exist.\n",
    "\n",
    "'t' Open in text mode. (default)\n",
    "\n",
    "'b' Open in binary mode.\n",
    "\n",
    "'+' Open a file for updating (reading and writing)\n",
    "\n",
    "\n",
    "The default encoding is platform dependent. In windows, it is 'cp1252' but 'utf-8' in Linux.\n",
    "\n",
    "always close a file otherwise the dta will be stuck in ram and will get deleted when system turns off\n",
    "'''"
   ]
  },
  {
   "cell_type": "code",
   "execution_count": 6,
   "metadata": {},
   "outputs": [],
   "source": [
    "try:\n",
    "    f = open('abc.txt')\n",
    "    \n",
    "finally:\n",
    "    f.close()\n",
    "    \n",
    "#Safer way to handle files"
   ]
  },
  {
   "cell_type": "code",
   "execution_count": 7,
   "metadata": {},
   "outputs": [],
   "source": [
    "#Create a file\n",
    "f = open('test.txt','w')\n",
    "#Write in a file\n",
    "f.write('Hello Karthik')\n",
    "#Close the file\n",
    "f.close()"
   ]
  },
  {
   "cell_type": "code",
   "execution_count": 8,
   "metadata": {},
   "outputs": [
    {
     "data": {
      "text/plain": [
       "'Hello Karthik'"
      ]
     },
     "execution_count": 8,
     "metadata": {},
     "output_type": "execute_result"
    }
   ],
   "source": [
    "f = open('test.txt','r')#Even without 'r' param this works coz r is default\n",
    "f.read()"
   ]
  },
  {
   "cell_type": "code",
   "execution_count": 9,
   "metadata": {},
   "outputs": [
    {
     "data": {
      "text/plain": [
       "'Hell'"
      ]
     },
     "execution_count": 9,
     "metadata": {},
     "output_type": "execute_result"
    }
   ],
   "source": [
    "f = open('test.txt','r')\n",
    "f.read(4) #First 4 characters"
   ]
  },
  {
   "cell_type": "code",
   "execution_count": 10,
   "metadata": {},
   "outputs": [
    {
     "data": {
      "text/plain": [
       "'o Karthik'"
      ]
     },
     "execution_count": 10,
     "metadata": {},
     "output_type": "execute_result"
    }
   ],
   "source": [
    "f.read(10)\n",
    "#Gives a str starting from current curser location"
   ]
  },
  {
   "cell_type": "code",
   "execution_count": 11,
   "metadata": {},
   "outputs": [
    {
     "data": {
      "text/plain": [
       "0"
      ]
     },
     "execution_count": 11,
     "metadata": {},
     "output_type": "execute_result"
    }
   ],
   "source": [
    "f.seek(0)#Cursor goes back to 0"
   ]
  },
  {
   "cell_type": "code",
   "execution_count": 12,
   "metadata": {},
   "outputs": [
    {
     "name": "stdout",
     "output_type": "stream",
     "text": [
      "Hello Karthik\n"
     ]
    }
   ],
   "source": [
    "print(f.read()) #Print al elements in the file"
   ]
  },
  {
   "cell_type": "code",
   "execution_count": 13,
   "metadata": {},
   "outputs": [],
   "source": [
    "#f.readlines() returns a list of all lines as a element"
   ]
  },
  {
   "cell_type": "code",
   "execution_count": 14,
   "metadata": {},
   "outputs": [],
   "source": [
    "import os"
   ]
  },
  {
   "cell_type": "code",
   "execution_count": 15,
   "metadata": {},
   "outputs": [
    {
     "data": {
      "text/plain": [
       "'/home/karthikeyan/Documents/Applied AI Course/Untitled Folder'"
      ]
     },
     "execution_count": 15,
     "metadata": {},
     "output_type": "execute_result"
    }
   ],
   "source": [
    "os.getcwd()"
   ]
  },
  {
   "cell_type": "code",
   "execution_count": 16,
   "metadata": {},
   "outputs": [],
   "source": [
    "os.chdir('/home/karthikeyan/Downloads')"
   ]
  },
  {
   "cell_type": "code",
   "execution_count": 17,
   "metadata": {},
   "outputs": [
    {
     "data": {
      "text/plain": [
       "'/home/karthikeyan/Downloads'"
      ]
     },
     "execution_count": 17,
     "metadata": {},
     "output_type": "execute_result"
    }
   ],
   "source": [
    "os.getcwd()"
   ]
  },
  {
   "cell_type": "code",
   "execution_count": 18,
   "metadata": {},
   "outputs": [],
   "source": [
    "os.chdir('/home/karthikeyan/Downloads/[FCO] AppliedAICourse - Applied Machine Learning Course/4.8 - File Handling')"
   ]
  },
  {
   "cell_type": "code",
   "execution_count": 19,
   "metadata": {},
   "outputs": [
    {
     "data": {
      "text/plain": [
       "['4.8 - File Handling.mp4',\n",
       " 'FTUApps.com website coming soon.txt',\n",
       " '[FTU Forum].url',\n",
       " 'out.pdf',\n",
       " '[FreeTutorials.Eu].url',\n",
       " 'File_IO.ipynb',\n",
       " 'How you can help Team-FTU.txt',\n",
       " '[FreeCoursesOnline.Me].url',\n",
       " '.ipynb_checkpoints']"
      ]
     },
     "execution_count": 19,
     "metadata": {},
     "output_type": "execute_result"
    }
   ],
   "source": [
    "os.listdir(os.getcwd())"
   ]
  },
  {
   "cell_type": "code",
   "execution_count": 20,
   "metadata": {},
   "outputs": [],
   "source": [
    "os.mkdir('New Dir')"
   ]
  },
  {
   "cell_type": "code",
   "execution_count": 21,
   "metadata": {},
   "outputs": [],
   "source": [
    "os.rmdir('New Dir') #Can only remove empty directory"
   ]
  },
  {
   "cell_type": "code",
   "execution_count": 22,
   "metadata": {},
   "outputs": [],
   "source": [
    "#How to remove a non empty directory"
   ]
  },
  {
   "cell_type": "code",
   "execution_count": 23,
   "metadata": {},
   "outputs": [],
   "source": [
    "import shutil"
   ]
  },
  {
   "cell_type": "code",
   "execution_count": 24,
   "metadata": {},
   "outputs": [
    {
     "data": {
      "text/plain": [
       "\"\\nthen we use\\n\\nshutil.rmtree('Dir name')\\n\""
      ]
     },
     "execution_count": 24,
     "metadata": {},
     "output_type": "execute_result"
    }
   ],
   "source": [
    "'''\n",
    "then we use\n",
    "\n",
    "shutil.rmtree('Dir name')\n",
    "'''"
   ]
  }
 ],
 "metadata": {
  "kernelspec": {
   "display_name": "Python 3",
   "language": "python",
   "name": "python3"
  },
  "language_info": {
   "codemirror_mode": {
    "name": "ipython",
    "version": 3
   },
   "file_extension": ".py",
   "mimetype": "text/x-python",
   "name": "python",
   "nbconvert_exporter": "python",
   "pygments_lexer": "ipython3",
   "version": "3.7.1"
  }
 },
 "nbformat": 4,
 "nbformat_minor": 2
}
