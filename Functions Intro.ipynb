{
 "cells": [
  {
   "cell_type": "code",
   "execution_count": 1,
   "metadata": {},
   "outputs": [],
   "source": [
    "#If we need to repeat a set of code it's better to put it inside a function so code management will be ease"
   ]
  },
  {
   "cell_type": "code",
   "execution_count": 2,
   "metadata": {},
   "outputs": [
    {
     "data": {
      "text/plain": [
       "'\\nNo curly braces {},\\ndef -> ketword\\nreturn fn is optional\\n\\n'"
      ]
     },
     "execution_count": 2,
     "metadata": {},
     "output_type": "execute_result"
    }
   ],
   "source": [
    "'''\n",
    "No curly braces {},\n",
    "def -> ketword\n",
    "return fn is optional\n",
    "\n",
    "'''"
   ]
  },
  {
   "cell_type": "code",
   "execution_count": 3,
   "metadata": {},
   "outputs": [],
   "source": [
    "def print_the_name(name):\n",
    "    '''\n",
    "    Multi line comments inside a fn is called DOC string -> good programming practice\n",
    "    Doc string explains what the function does\n",
    "    \n",
    "    This function prints the name with hello -> Doc string\n",
    "    '''\n",
    "    print('Hello '+str(name))"
   ]
  },
  {
   "cell_type": "code",
   "execution_count": 4,
   "metadata": {},
   "outputs": [
    {
     "name": "stdout",
     "output_type": "stream",
     "text": [
      "Hello Karthik\n"
     ]
    }
   ],
   "source": [
    "print_the_name('Karthik')"
   ]
  },
  {
   "cell_type": "code",
   "execution_count": 5,
   "metadata": {},
   "outputs": [],
   "source": [
    "#To print the doc string of any function"
   ]
  },
  {
   "cell_type": "code",
   "execution_count": 6,
   "metadata": {},
   "outputs": [
    {
     "name": "stdout",
     "output_type": "stream",
     "text": [
      "\n",
      "    Multi line comments inside a fn is called DOC string -> good programming practice\n",
      "    Doc string explains what the function does\n",
      "    \n",
      "    This function prints the name with hello -> Doc string\n",
      "    \n"
     ]
    }
   ],
   "source": [
    "print(print_the_name.__doc__)"
   ]
  },
  {
   "cell_type": "code",
   "execution_count": 7,
   "metadata": {},
   "outputs": [],
   "source": [
    "def list_sum(lst):\n",
    "    '''\n",
    "    Sum of all list elements\n",
    "    '''\n",
    "    sum = 0\n",
    "    for i in lst:\n",
    "        sum += i\n",
    "    return sum"
   ]
  },
  {
   "cell_type": "code",
   "execution_count": 8,
   "metadata": {},
   "outputs": [
    {
     "name": "stdout",
     "output_type": "stream",
     "text": [
      "15\n"
     ]
    }
   ],
   "source": [
    "print(list_sum([1,2,3,4,5]))"
   ]
  },
  {
   "cell_type": "code",
   "execution_count": 9,
   "metadata": {},
   "outputs": [
    {
     "data": {
      "text/plain": [
       "\"\\nreturn statements are optional in python ...\\nwhen u don't give any return statements python  automatically returns None\\n\""
      ]
     },
     "execution_count": 9,
     "metadata": {},
     "output_type": "execute_result"
    }
   ],
   "source": [
    "'''\n",
    "return statements are optional in python ...\n",
    "when u don't give any return statements python  automatically returns None\n",
    "'''"
   ]
  },
  {
   "cell_type": "code",
   "execution_count": 10,
   "metadata": {},
   "outputs": [
    {
     "data": {
      "text/plain": [
       "'\\nScope of var -> The portion of the program where the variable is recognized\\nLife time of var -> Period throughout which the variable exits\\n\\n'"
      ]
     },
     "execution_count": 10,
     "metadata": {},
     "output_type": "execute_result"
    }
   ],
   "source": [
    "'''\n",
    "Scope of var -> The portion of the program where the variable is recognized\n",
    "Life time of var -> Period throughout which the variable exits\n",
    "\n",
    "'''"
   ]
  },
  {
   "cell_type": "code",
   "execution_count": 11,
   "metadata": {},
   "outputs": [
    {
     "name": "stdout",
     "output_type": "stream",
     "text": [
      "Global variable\n",
      "Local variable\n",
      "Global variable\n"
     ]
    },
    {
     "ename": "NameError",
     "evalue": "name 'local_var' is not defined",
     "output_type": "error",
     "traceback": [
      "\u001b[1;31m---------------------------------------------------------------------------\u001b[0m",
      "\u001b[1;31mNameError\u001b[0m                                 Traceback (most recent call last)",
      "\u001b[1;32m<ipython-input-11-fe48a36e8e50>\u001b[0m in \u001b[0;36m<module>\u001b[1;34m\u001b[0m\n\u001b[0;32m     10\u001b[0m \u001b[0mvar_scope\u001b[0m\u001b[1;33m(\u001b[0m\u001b[1;33m)\u001b[0m\u001b[1;33m\u001b[0m\u001b[1;33m\u001b[0m\u001b[0m\n\u001b[0;32m     11\u001b[0m \u001b[0mprint\u001b[0m\u001b[1;33m(\u001b[0m\u001b[0mglobal_var\u001b[0m\u001b[1;33m)\u001b[0m\u001b[1;33m\u001b[0m\u001b[1;33m\u001b[0m\u001b[0m\n\u001b[1;32m---> 12\u001b[1;33m \u001b[0mprint\u001b[0m\u001b[1;33m(\u001b[0m\u001b[0mlocal_var\u001b[0m\u001b[1;33m)\u001b[0m \u001b[1;31m# gives name error coz local var has no scope outside the fn\u001b[0m\u001b[1;33m\u001b[0m\u001b[1;33m\u001b[0m\u001b[0m\n\u001b[0m",
      "\u001b[1;31mNameError\u001b[0m: name 'local_var' is not defined"
     ]
    }
   ],
   "source": [
    "global_var = 'Global variable'\n",
    "def var_scope():\n",
    "    '''\n",
    "    It's used to check scope of the vars\n",
    "    '''\n",
    "    local_var = 'Local variable'\n",
    "    print(global_var)\n",
    "    print(local_var)\n",
    "    \n",
    "var_scope()\n",
    "print(global_var)\n",
    "print(local_var) # gives name error coz local var has no scope outside the fn"
   ]
  },
  {
   "cell_type": "markdown",
   "metadata": {},
   "source": [
    "**HCF Program using functions**"
   ]
  },
  {
   "cell_type": "code",
   "execution_count": 12,
   "metadata": {},
   "outputs": [],
   "source": [
    "# if we give 2 no's like 12,14 -> 2 is the highest no which can divide both given No's , So 2 is HIGHEST COMMON FACTOR"
   ]
  },
  {
   "cell_type": "code",
   "execution_count": 13,
   "metadata": {},
   "outputs": [],
   "source": [
    "def find_HCF(num1 , num2):\n",
    "    #We first get smaler no coz once we get the smaller no we can just for loop till that number\n",
    "    #Coz there's no need to run the numbers between smaller and larger no u know,\n",
    "    #Coz those no's can't divide smaller no and give a whole no as O/P\n",
    "    '''\n",
    "    Doc String : Program to find HCF\n",
    "    '''\n",
    "    small_no = num1 if num1<num2 else num2\n",
    "    hcf = 1 # we put HCF=1 coz if there are no factors 1 can divide anything so it's kina like default value\n",
    "    for i in (1,small_no+1):\n",
    "        #WE GIVE SMALL_NO + 1 COZ the factor for the larger NO can also be the smaller no (Say 5 ,10), \n",
    "        #SO we also wanna include smaller NO, coz u know how for loop in python works, range(n) means it means range(n-1)\n",
    "        #So to include the small No also we put \n",
    "        if (num1%i == 0) and (num2%i == 0):\n",
    "            hcf = i\n",
    "    return hcf"
   ]
  },
  {
   "cell_type": "code",
   "execution_count": 14,
   "metadata": {},
   "outputs": [
    {
     "data": {
      "text/plain": [
       "1"
      ]
     },
     "execution_count": 14,
     "metadata": {},
     "output_type": "execute_result"
    }
   ],
   "source": [
    "find_HCF(12,14)"
   ]
  }
 ],
 "metadata": {
  "kernelspec": {
   "display_name": "Python 3",
   "language": "python",
   "name": "python3"
  },
  "language_info": {
   "codemirror_mode": {
    "name": "ipython",
    "version": 3
   },
   "file_extension": ".py",
   "mimetype": "text/x-python",
   "name": "python",
   "nbconvert_exporter": "python",
   "pygments_lexer": "ipython3",
   "version": "3.7.1"
  }
 },
 "nbformat": 4,
 "nbformat_minor": 2
}
