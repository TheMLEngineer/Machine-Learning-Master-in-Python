{
 "cells": [
  {
   "cell_type": "markdown",
   "metadata": {},
   "source": [
    "## break statement"
   ]
  },
  {
   "cell_type": "code",
   "execution_count": 1,
   "metadata": {},
   "outputs": [],
   "source": [
    "#Break runs wherever it comes out of the for?while loop block"
   ]
  },
  {
   "cell_type": "code",
   "execution_count": 3,
   "metadata": {},
   "outputs": [
    {
     "name": "stdout",
     "output_type": "stream",
     "text": [
      "1\n",
      "2\n",
      "outside the for loop\n"
     ]
    }
   ],
   "source": [
    "l = [1,2,3,4,5]\n",
    "for num in l:\n",
    "    if num == 3:\n",
    "        break\n",
    "    print(num)\n",
    "    \n",
    "else:\n",
    "    print('This is else block')\n",
    "#The whole thing above is an for loop(For with else ... )\n",
    "#so when num = 3, we used break so it exits the whole for loop... so else is not printed)\n",
    "print('outside the for loop')"
   ]
  },
  {
   "cell_type": "code",
   "execution_count": 5,
   "metadata": {},
   "outputs": [
    {
     "name": "stdout",
     "output_type": "stream",
     "text": [
      "Enter the no to find prime or not : 34\n",
      "34 is devisible by 2\n",
      "34 is devisible by 17\n",
      "34 is not a prime NO\n"
     ]
    }
   ],
   "source": [
    "n = int(input('Enter the no to find prime or not : '))\n",
    "isDevisible = False\n",
    "i = 2\n",
    "\n",
    "while i < n:\n",
    "    if n % i == 0:\n",
    "        isDevisible = True\n",
    "        print('{} is devisible by {}'.format(n,i))\n",
    "    i += 1\n",
    "    \n",
    "if isDevisible:\n",
    "    print('{} is not a prime NO'.format(n))\n",
    "if not isDevisible:\n",
    "    print('{} is a prime NO'.format(n))"
   ]
  },
  {
   "cell_type": "code",
   "execution_count": 6,
   "metadata": {},
   "outputs": [],
   "source": [
    "#We change the above code with a break"
   ]
  },
  {
   "cell_type": "code",
   "execution_count": 10,
   "metadata": {},
   "outputs": [
    {
     "name": "stdout",
     "output_type": "stream",
     "text": [
      "Enter the no to find prime or not : 19\n",
      "19 is a prime NO\n"
     ]
    }
   ],
   "source": [
    "n = int(input('Enter the no to find prime or not : ')) #Get input , default input is a str so change into int\n",
    "isDevisible = False\n",
    "i = 2\n",
    "\n",
    "while i < n:\n",
    "    if n % i == 0:\n",
    "        isDevisible = True\n",
    "        print('{} is devisible by {}'.format(n,i))\n",
    "        break #Adding break\n",
    "    i += 1\n",
    "    \n",
    "if isDevisible:\n",
    "    print('{} is not a prime NO'.format(n))\n",
    "if not isDevisible:\n",
    "    print('{} is a prime NO'.format(n))"
   ]
  },
  {
   "cell_type": "code",
   "execution_count": 11,
   "metadata": {},
   "outputs": [],
   "source": [
    "#80 % of code execution time is spent in loops --> commonly\n",
    "# So if we use break statements loops will become efficient"
   ]
  },
  {
   "cell_type": "markdown",
   "metadata": {},
   "source": [
    "## Continue statement"
   ]
  },
  {
   "cell_type": "code",
   "execution_count": 12,
   "metadata": {},
   "outputs": [
    {
     "data": {
      "text/plain": [
       "\"\\nDosen't break the whole loop ...\\nInstead , It just leaves all the statements below and start executing the next Iteration\\n\""
      ]
     },
     "execution_count": 12,
     "metadata": {},
     "output_type": "execute_result"
    }
   ],
   "source": [
    "'''\n",
    "Dosen't break the whole loop ...\n",
    "Instead , It just leaves all the statements below and start executing the next Iteration\n",
    "'''"
   ]
  },
  {
   "cell_type": "code",
   "execution_count": 14,
   "metadata": {},
   "outputs": [
    {
     "name": "stdout",
     "output_type": "stream",
     "text": [
      "2\n",
      "4\n",
      "6\n",
      "8\n",
      "10\n",
      "else-block\n"
     ]
    }
   ],
   "source": [
    "l = [1,2,3,4,5,6,7,8,9,10]\n",
    "#Print only even Nos with continue\n",
    "for num in l:\n",
    "    if num % 2 != 0:\n",
    "        #Whenever the if condition is satisfied it just ignores the lines below continue(in For loop)\n",
    "        continue\n",
    "        #Means whenevr odd number comes it ignores the print statement and goes to the next element\n",
    "    print(num)\n",
    "else:\n",
    "    print('else-block')"
   ]
  }
 ],
 "metadata": {
  "kernelspec": {
   "display_name": "Python 3",
   "language": "python",
   "name": "python3"
  },
  "language_info": {
   "codemirror_mode": {
    "name": "ipython",
    "version": 3
   },
   "file_extension": ".py",
   "mimetype": "text/x-python",
   "name": "python",
   "nbconvert_exporter": "python",
   "pygments_lexer": "ipython3",
   "version": "3.7.1"
  }
 },
 "nbformat": 4,
 "nbformat_minor": 2
}
