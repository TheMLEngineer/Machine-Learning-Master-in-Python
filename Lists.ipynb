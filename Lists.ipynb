{
 "cells": [
  {
   "cell_type": "markdown",
   "metadata": {},
   "source": [
    "## Lists"
   ]
  },
  {
   "cell_type": "code",
   "execution_count": 1,
   "metadata": {},
   "outputs": [],
   "source": [
    "#Sequence DS, Collection of items, enclosed in [],items in list have index value and seperated by a comma, lists are mutable"
   ]
  },
  {
   "cell_type": "markdown",
   "metadata": {},
   "source": [
    "## List creation"
   ]
  },
  {
   "cell_type": "code",
   "execution_count": 2,
   "metadata": {},
   "outputs": [],
   "source": [
    "emptylist = []"
   ]
  },
  {
   "cell_type": "code",
   "execution_count": 3,
   "metadata": {},
   "outputs": [],
   "source": [
    "l1 = [1,2,3,4] #int"
   ]
  },
  {
   "cell_type": "code",
   "execution_count": 4,
   "metadata": {},
   "outputs": [],
   "source": [
    "l2 = ['deqw','wcfwefc'] #str"
   ]
  },
  {
   "cell_type": "code",
   "execution_count": 5,
   "metadata": {},
   "outputs": [],
   "source": [
    "l3 = [[1,2],[3,4]] #Lists of list"
   ]
  },
  {
   "cell_type": "code",
   "execution_count": 6,
   "metadata": {},
   "outputs": [],
   "source": [
    "l4 = ['dfwfr',1,[123,134],2.34] #List of different data types"
   ]
  },
  {
   "cell_type": "code",
   "execution_count": 7,
   "metadata": {},
   "outputs": [
    {
     "name": "stdout",
     "output_type": "stream",
     "text": [
      "4\n"
     ]
    }
   ],
   "source": [
    "print(len(l4))\n",
    "#len is a function"
   ]
  },
  {
   "cell_type": "code",
   "execution_count": 8,
   "metadata": {},
   "outputs": [],
   "source": [
    "l4.append('Hello')"
   ]
  },
  {
   "cell_type": "code",
   "execution_count": 9,
   "metadata": {},
   "outputs": [
    {
     "name": "stdout",
     "output_type": "stream",
     "text": [
      "['dfwfr', 1, [123, 134], 2.34, 'Hello']\n"
     ]
    }
   ],
   "source": [
    "print(l4)"
   ]
  },
  {
   "cell_type": "code",
   "execution_count": 10,
   "metadata": {},
   "outputs": [],
   "source": [
    "l4.insert(2,'whjxsvwjhx')\n",
    "#first arg is location 2nd arg is value"
   ]
  },
  {
   "cell_type": "code",
   "execution_count": 11,
   "metadata": {},
   "outputs": [
    {
     "name": "stdout",
     "output_type": "stream",
     "text": [
      "['dfwfr', 1, 'whjxsvwjhx', [123, 134], 2.34, 'Hello']\n"
     ]
    }
   ],
   "source": [
    "print(l4)"
   ]
  },
  {
   "cell_type": "code",
   "execution_count": 12,
   "metadata": {},
   "outputs": [],
   "source": [
    "l4.remove(1)\n",
    "#Removes first occurance of 1"
   ]
  },
  {
   "cell_type": "code",
   "execution_count": 13,
   "metadata": {},
   "outputs": [
    {
     "name": "stdout",
     "output_type": "stream",
     "text": [
      "['dfwfr', 'whjxsvwjhx', [123, 134], 2.34, 'Hello']\n"
     ]
    }
   ],
   "source": [
    "print(l4)"
   ]
  },
  {
   "cell_type": "code",
   "execution_count": 14,
   "metadata": {},
   "outputs": [
    {
     "name": "stdout",
     "output_type": "stream",
     "text": [
      "[1, 2, 3, 4]\n",
      "['deqw', 'wcfwefc']\n"
     ]
    }
   ],
   "source": [
    "print(l1)\n",
    "print(l2)"
   ]
  },
  {
   "cell_type": "code",
   "execution_count": 15,
   "metadata": {},
   "outputs": [],
   "source": [
    "#append\n",
    "l1.append(l2)\n",
    "#Appends just add the whole 2nd list as a single list element"
   ]
  },
  {
   "cell_type": "code",
   "execution_count": 16,
   "metadata": {},
   "outputs": [
    {
     "name": "stdout",
     "output_type": "stream",
     "text": [
      "[1, 2, 3, 4, ['deqw', 'wcfwefc']]\n"
     ]
    }
   ],
   "source": [
    "print(l1)"
   ]
  },
  {
   "cell_type": "code",
   "execution_count": 18,
   "metadata": {},
   "outputs": [
    {
     "name": "stdout",
     "output_type": "stream",
     "text": [
      "[1, 2, 3, 4, 'deqw', 'wcfwefc']\n"
     ]
    }
   ],
   "source": [
    "l1 = [1,2,3,4] #int\n",
    "l2 = ['deqw','wcfwefc'] #str\n",
    "#extend\n",
    "l1.extend(l2)\n",
    "#seperates each element in the list 2 and add them as a seperate element\n",
    "print(l1)"
   ]
  },
  {
   "cell_type": "code",
   "execution_count": 19,
   "metadata": {},
   "outputs": [],
   "source": [
    "#we commonly use extend more than append"
   ]
  },
  {
   "cell_type": "code",
   "execution_count": 22,
   "metadata": {},
   "outputs": [
    {
     "name": "stdout",
     "output_type": "stream",
     "text": [
      "l =  ['hi', 'hello', 'vanakkam', 'success', 'qwerty']\n",
      "l =  ['hello', 'vanakkam', 'success', 'qwerty']\n",
      "a =  qwerty\n",
      "l =  ['hello', 'vanakkam', 'success']\n"
     ]
    }
   ],
   "source": [
    "l = ['hi','hello','vanakkam','success','qwerty']\n",
    "print('l = ',l)\n",
    "del l[0]\n",
    "#Deleting based on index\n",
    "print('l = ',l)\n",
    "#Using pop()\n",
    "\n",
    "a = l.pop()\n",
    "print('a = ',a)\n",
    "print('l = ',l)"
   ]
  },
  {
   "cell_type": "markdown",
   "metadata": {},
   "source": [
    "## List related keywords in Python"
   ]
  },
  {
   "cell_type": "code",
   "execution_count": 24,
   "metadata": {},
   "outputs": [
    {
     "name": "stdout",
     "output_type": "stream",
     "text": [
      "hi is in list\n",
      "i is not in list\n"
     ]
    }
   ],
   "source": [
    "l = ['hi','hello','success']\n",
    "if 'hi' in l:\n",
    "    print('hi is in list')\n",
    "if 'i' not in l:\n",
    "    print('i is not in list')"
   ]
  },
  {
   "cell_type": "code",
   "execution_count": 26,
   "metadata": {},
   "outputs": [
    {
     "name": "stdout",
     "output_type": "stream",
     "text": [
      "['hi', 'hello', 'success']\n",
      "['success', 'hello', 'hi']\n"
     ]
    }
   ],
   "source": [
    "print(l)\n",
    "l.reverse()\n",
    "print(l)"
   ]
  },
  {
   "cell_type": "markdown",
   "metadata": {},
   "source": [
    "# Sorting"
   ]
  },
  {
   "cell_type": "code",
   "execution_count": 29,
   "metadata": {},
   "outputs": [],
   "source": [
    "l = [6,234,45,34,76,7945,45,3,123,76,890,9]\n",
    "sorted_l = sorted(l)\n",
    "#creates a sorted copy of the given list"
   ]
  },
  {
   "cell_type": "code",
   "execution_count": 30,
   "metadata": {},
   "outputs": [
    {
     "name": "stdout",
     "output_type": "stream",
     "text": [
      "Original list:  [6, 234, 45, 34, 76, 7945, 45, 3, 123, 76, 890, 9]\n",
      "Sorted list:  [3, 6, 9, 34, 45, 45, 76, 76, 123, 234, 890, 7945]\n"
     ]
    }
   ],
   "source": [
    "print('Original list: ',l)\n",
    "print('Sorted list: ',sorted_l)"
   ]
  },
  {
   "cell_type": "code",
   "execution_count": 32,
   "metadata": {},
   "outputs": [
    {
     "name": "stdout",
     "output_type": "stream",
     "text": [
      "Descending list:  [7945, 890, 234, 123, 76, 76, 45, 45, 34, 9, 6, 3]\n"
     ]
    }
   ],
   "source": [
    "sorted_descending = sorted(l,reverse=True)\n",
    "print('Descending list: ',sorted_descending)"
   ]
  },
  {
   "cell_type": "code",
   "execution_count": 34,
   "metadata": {},
   "outputs": [
    {
     "name": "stdout",
     "output_type": "stream",
     "text": [
      "[3, 6, 9, 34, 45, 45, 76, 76, 123, 234, 890, 7945]\n"
     ]
    }
   ],
   "source": [
    "l.sort()\n",
    "#.sort() sorts the list and saves it in the same variable\n",
    "print(l)"
   ]
  },
  {
   "cell_type": "code",
   "execution_count": 35,
   "metadata": {},
   "outputs": [
    {
     "name": "stdout",
     "output_type": "stream",
     "text": [
      "[3, 6, 9, 20.5, 34, 45, 45, 76, 76, 123, 234, 890, 7945]\n"
     ]
    }
   ],
   "source": [
    "l = [3, 6, 9,20.5, 34, 45, 45, 76, 76, 123, 234, 890, 7945]\n",
    "l.sort()\n",
    "print(l)\n",
    "#Int and float are number types so they are compatible with sorting"
   ]
  },
  {
   "cell_type": "code",
   "execution_count": 36,
   "metadata": {},
   "outputs": [
    {
     "ename": "TypeError",
     "evalue": "'<' not supported between instances of 'str' and 'int'",
     "output_type": "error",
     "traceback": [
      "\u001b[1;31m---------------------------------------------------------------------------\u001b[0m",
      "\u001b[1;31mTypeError\u001b[0m                                 Traceback (most recent call last)",
      "\u001b[1;32m<ipython-input-36-cc837f658666>\u001b[0m in \u001b[0;36m<module>\u001b[1;34m\u001b[0m\n\u001b[0;32m      1\u001b[0m \u001b[1;31m#If we do the same with the str\u001b[0m\u001b[1;33m\u001b[0m\u001b[1;33m\u001b[0m\u001b[1;33m\u001b[0m\u001b[0m\n\u001b[0;32m      2\u001b[0m \u001b[0ml\u001b[0m \u001b[1;33m=\u001b[0m \u001b[1;33m[\u001b[0m\u001b[1;36m3\u001b[0m\u001b[1;33m,\u001b[0m \u001b[1;36m6\u001b[0m\u001b[1;33m,\u001b[0m \u001b[1;36m9\u001b[0m\u001b[1;33m,\u001b[0m\u001b[1;36m20.5\u001b[0m\u001b[1;33m,\u001b[0m \u001b[1;36m34\u001b[0m\u001b[1;33m,\u001b[0m \u001b[1;36m45\u001b[0m\u001b[1;33m,\u001b[0m \u001b[1;34m'Hi'\u001b[0m\u001b[1;33m,\u001b[0m \u001b[1;36m76\u001b[0m\u001b[1;33m,\u001b[0m \u001b[1;36m76\u001b[0m\u001b[1;33m,\u001b[0m \u001b[1;36m123\u001b[0m\u001b[1;33m,\u001b[0m \u001b[1;36m234\u001b[0m\u001b[1;33m,\u001b[0m \u001b[1;36m890\u001b[0m\u001b[1;33m,\u001b[0m \u001b[1;36m7945\u001b[0m\u001b[1;33m]\u001b[0m\u001b[1;33m\u001b[0m\u001b[1;33m\u001b[0m\u001b[0m\n\u001b[1;32m----> 3\u001b[1;33m \u001b[0ml\u001b[0m\u001b[1;33m.\u001b[0m\u001b[0msort\u001b[0m\u001b[1;33m(\u001b[0m\u001b[1;33m)\u001b[0m\u001b[1;33m\u001b[0m\u001b[1;33m\u001b[0m\u001b[0m\n\u001b[0m\u001b[0;32m      4\u001b[0m \u001b[0mprint\u001b[0m\u001b[1;33m(\u001b[0m\u001b[0ml\u001b[0m\u001b[1;33m)\u001b[0m\u001b[1;33m\u001b[0m\u001b[1;33m\u001b[0m\u001b[0m\n",
      "\u001b[1;31mTypeError\u001b[0m: '<' not supported between instances of 'str' and 'int'"
     ]
    }
   ],
   "source": [
    "#If we do the same with the str\n",
    "l = [3, 6, 9,20.5, 34, 45, 'Hi', 76, 76, 123, 234, 890, 7945]\n",
    "l.sort()\n",
    "print(l)"
   ]
  },
  {
   "cell_type": "code",
   "execution_count": 38,
   "metadata": {},
   "outputs": [],
   "source": [
    "#It'll give type error\n",
    "#can't compare str to any numerical value\n",
    "#'<' not supported between instances of 'str' and 'int'"
   ]
  },
  {
   "cell_type": "markdown",
   "metadata": {},
   "source": [
    "## Multiple references"
   ]
  },
  {
   "cell_type": "code",
   "execution_count": 40,
   "metadata": {},
   "outputs": [
    {
     "name": "stdout",
     "output_type": "stream",
     "text": [
      "[1, 2, 3, 4, 5, 6]\n"
     ]
    }
   ],
   "source": [
    "l1 = [1,2,3,4,5]\n",
    "l2 = l1\n",
    "#l1 and l2 is referencing same memory state . so if i change in l2 , l1 also changes\n",
    "l2.append(6)\n",
    "print(l1)"
   ]
  },
  {
   "cell_type": "code",
   "execution_count": 46,
   "metadata": {},
   "outputs": [
    {
     "name": "stdout",
     "output_type": "stream",
     "text": [
      "l3:  ['cdnjwdc', 2, 3, 4, 5, 6]\n",
      "['cdnjwdc', 2, 3, 4, 5, 6]\n",
      "['cdnjwdc', 2, 3, 4, 5, 6]\n"
     ]
    },
    {
     "data": {
      "text/plain": [
       "\"\\nl4 = l3\\nl4.append('check')\\nprint('l3: ',l3)\\nprint('l4: ',l4)\\n#Even if we split and arrange each element from old to new list the memory reference \\n\""
      ]
     },
     "execution_count": 46,
     "metadata": {},
     "output_type": "execute_result"
    }
   ],
   "source": [
    "l3 = []\n",
    "for ele in l1:\n",
    "    l3.append(ele)\n",
    "print('l3: ',l3)\n",
    "\n",
    "\n",
    "l4 = l3\n",
    "l4.append('check')\n",
    "print('l3: ',l3)\n",
    "print('l4: ',l4)\n",
    "#Even if we split and arrange each element from old to new list the memory reference \n",
    "\n"
   ]
  },
  {
   "cell_type": "markdown",
   "metadata": {},
   "source": [
    "## Str split to create a list"
   ]
  },
  {
   "cell_type": "code",
   "execution_count": 52,
   "metadata": {},
   "outputs": [
    {
     "name": "stdout",
     "output_type": "stream",
     "text": [
      "Type of s :  <class 'str'>\n",
      "After split\n",
      "['cwui', 'cwdcbhu', 'hcdj', 'wed', 'weduioend', 'weiofnd']\n",
      "Type of l :  <class 'list'>\n"
     ]
    }
   ],
   "source": [
    "s = 'cwui cwdcbhu hcdj wed weduioend weiofnd'\n",
    "print('Type of s : ',type(s))\n",
    "print('After split')\n",
    "l = s.split(' ')\n",
    "#s.split() also works coz default param for split is a white space\n",
    "print(l)\n",
    "print('Type of l : ',type(l))"
   ]
  },
  {
   "cell_type": "code",
   "execution_count": 53,
   "metadata": {},
   "outputs": [
    {
     "data": {
      "text/plain": [
       "'weiofnd'"
      ]
     },
     "execution_count": 53,
     "metadata": {},
     "output_type": "execute_result"
    }
   ],
   "source": [
    "l[-1]\n",
    "#last element"
   ]
  },
  {
   "cell_type": "markdown",
   "metadata": {},
   "source": [
    "## Slicing"
   ]
  },
  {
   "cell_type": "code",
   "execution_count": 55,
   "metadata": {},
   "outputs": [
    {
     "name": "stdout",
     "output_type": "stream",
     "text": [
      "[1, 2, 3, 4, 65, 76, 86, 890, 8, 5, 56, 89]\n"
     ]
    }
   ],
   "source": [
    "l = [1,2,3,4,65,76,86,890,8,5,56,89]\n",
    "print(l[:])#Prints all the NOs"
   ]
  },
  {
   "cell_type": "code",
   "execution_count": 59,
   "metadata": {},
   "outputs": [
    {
     "name": "stdout",
     "output_type": "stream",
     "text": [
      "[1, 2, 3, 4]\n"
     ]
    }
   ],
   "source": [
    "print(l[0:4])#from start to end-1 will be printed\n",
    "#list[start:end] -> means from 0th index to 3rd index (4-1 = 3) print all values of list in that corresponding index"
   ]
  },
  {
   "cell_type": "code",
   "execution_count": 60,
   "metadata": {},
   "outputs": [],
   "source": [
    "#like range() list slicing also has start:end:step "
   ]
  },
  {
   "cell_type": "code",
   "execution_count": 61,
   "metadata": {},
   "outputs": [
    {
     "name": "stdout",
     "output_type": "stream",
     "text": [
      "[1, 3, 65, 86, 8, 56]\n"
     ]
    }
   ],
   "source": [
    "print(l[::2])\n",
    "#from first element to last element print by step size 2"
   ]
  },
  {
   "cell_type": "code",
   "execution_count": 63,
   "metadata": {},
   "outputs": [
    {
     "name": "stdout",
     "output_type": "stream",
     "text": [
      "[1, 2, 3, 4, 'hi', 'hello', 'Karthik', 'You are Awesome']\n"
     ]
    }
   ],
   "source": [
    "l1 = [1,2,3,4]\n",
    "l2 = ['hi','hello','Karthik','You are Awesome']\n",
    "a = l1 + l2\n",
    "print(a)\n",
    "#Two lists are combined using extend() function"
   ]
  },
  {
   "cell_type": "code",
   "execution_count": 64,
   "metadata": {},
   "outputs": [
    {
     "name": "stdout",
     "output_type": "stream",
     "text": [
      "4\n"
     ]
    }
   ],
   "source": [
    "l = [1,2,34,1,2,45,71,56,1,6,8,1,5,7]\n",
    "print(l.count(1))\n",
    "#Prints the NO of times 1 occur in the given list"
   ]
  },
  {
   "cell_type": "markdown",
   "metadata": {},
   "source": [
    "## Looping"
   ]
  },
  {
   "cell_type": "code",
   "execution_count": 65,
   "metadata": {},
   "outputs": [
    {
     "name": "stdout",
     "output_type": "stream",
     "text": [
      "1\n",
      "2\n",
      "34\n",
      "1\n",
      "2\n",
      "45\n",
      "71\n",
      "56\n",
      "1\n",
      "6\n",
      "8\n",
      "1\n",
      "5\n",
      "7\n"
     ]
    }
   ],
   "source": [
    "for ele in l:\n",
    "    print(ele)"
   ]
  },
  {
   "cell_type": "code",
   "execution_count": 66,
   "metadata": {},
   "outputs": [
    {
     "name": "stdout",
     "output_type": "stream",
     "text": [
      "[0, 1, 4, 9, 16, 25, 36, 49, 64, 81]\n"
     ]
    }
   ],
   "source": [
    "#Without list comprehension\n",
    "squares = []\n",
    "for i in range (10):\n",
    "    squares.append(i**2) #List append\n",
    "print(squares)"
   ]
  },
  {
   "cell_type": "code",
   "execution_count": 67,
   "metadata": {},
   "outputs": [
    {
     "name": "stdout",
     "output_type": "stream",
     "text": [
      "[0, 1, 4, 9, 16, 25, 36, 49, 64, 81]\n"
     ]
    }
   ],
   "source": [
    "#Using list comprehension\n",
    "squares = [i**2 for i in range(10)]\n",
    "print(squares)"
   ]
  },
  {
   "cell_type": "code",
   "execution_count": 69,
   "metadata": {},
   "outputs": [
    {
     "name": "stdout",
     "output_type": "stream",
     "text": [
      "[-20, -40, 20, 40, 100]\n",
      "[10, 20, 50]\n",
      "[(0, 0), (1, 1), (2, 4), (3, 9), (4, 16), (5, 25), (6, 36), (7, 49), (8, 64), (9, 81)]\n",
      "[[10, 12], [20, 22], [50, 52]]\n"
     ]
    }
   ],
   "source": [
    "l = [-10,-20,10,20,50]\n",
    "new_l = [i*2 for i in l]\n",
    "print(new_l)\n",
    "\n",
    "new_l = [i for i in l if i >= 0]\n",
    "print(new_l)\n",
    "\n",
    "\n",
    "#Creating list of tuples\n",
    "new_l = [(i,i**2) for i in range(10)]\n",
    "print(new_l)\n",
    "\n",
    "\n",
    "#Creating list of lists\n",
    "new_l = [[i,i+2] for i in l if i >=0]\n",
    "print(new_l)"
   ]
  },
  {
   "cell_type": "code",
   "execution_count": 70,
   "metadata": {},
   "outputs": [
    {
     "name": "stdout",
     "output_type": "stream",
     "text": [
      "[[1, 5, 9], [2, 6, 10], [3, 7, 11], [4, 8, 12]]\n"
     ]
    }
   ],
   "source": [
    "matrix = [\n",
    "    [1,2,3,4],\n",
    "    [5,6,7,8],\n",
    "    [9,10,11,12]\n",
    "]\n",
    "#Finding transpose of A matrix\n",
    "transposed = []\n",
    "for i in range(4):\n",
    "    lst = []\n",
    "    for row in matrix:\n",
    "        lst.append(row[i])\n",
    "    transposed.append(lst)\n",
    "print(transposed)"
   ]
  },
  {
   "cell_type": "code",
   "execution_count": 81,
   "metadata": {},
   "outputs": [
    {
     "name": "stdout",
     "output_type": "stream",
     "text": [
      "[[1, 5, 9], [2, 6, 10], [3, 7, 11], [4, 8, 12]]\n"
     ]
    }
   ],
   "source": [
    "#With list comprehension\n",
    "transposed = [[row[i] for row in matrix] for i in range(4)]\n",
    "print(transposed)"
   ]
  }
 ],
 "metadata": {
  "kernelspec": {
   "display_name": "Python 3",
   "language": "python",
   "name": "python3"
  },
  "language_info": {
   "codemirror_mode": {
    "name": "ipython",
    "version": 3
   },
   "file_extension": ".py",
   "mimetype": "text/x-python",
   "name": "python",
   "nbconvert_exporter": "python",
   "pygments_lexer": "ipython3",
   "version": "3.7.1"
  }
 },
 "nbformat": 4,
 "nbformat_minor": 2
}
