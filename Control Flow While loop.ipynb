{
 "cells": [
  {
   "cell_type": "code",
   "execution_count": 7,
   "metadata": {},
   "outputs": [
    {
     "name": "stdout",
     "output_type": "stream",
     "text": [
      "Prod of list is :120\n"
     ]
    }
   ],
   "source": [
    "l = [1,2,3,4,5]\n",
    "i=0\n",
    "prod = 1\n",
    "while i< len(l):\n",
    "    prod *= l[i]\n",
    "    i += 1\n",
    "print('Prod of list is :{}'.format(prod))"
   ]
  },
  {
   "cell_type": "code",
   "execution_count": 8,
   "metadata": {},
   "outputs": [
    {
     "name": "stdout",
     "output_type": "stream",
     "text": [
      "1\n",
      "2\n",
      "3\n",
      "4\n",
      "5\n",
      "printed all elements so nothing left to print\n"
     ]
    }
   ],
   "source": [
    "l = [1,2,3,4,5]\n",
    "i=0\n",
    "while i<len(l):\n",
    "    print(l[i])\n",
    "    i += 1 #Without this line this loop becomes infinite loop\n",
    "else:\n",
    "    print('printed all elements so nothing left to print')"
   ]
  },
  {
   "cell_type": "markdown",
   "metadata": {},
   "source": [
    "## Prime no"
   ]
  },
  {
   "cell_type": "code",
   "execution_count": 13,
   "metadata": {},
   "outputs": [
    {
     "name": "stdout",
     "output_type": "stream",
     "text": [
      "Enter a NO: 19\n",
      "19 is a prime NO\n"
     ]
    }
   ],
   "source": [
    "a = int(input('Enter a NO: '))\n",
    "isDivisable = False\n",
    "i =2\n",
    "while  i< a:\n",
    "    if a % i ==0: # % is like the numerical reminder operator\n",
    "        isDivisable=True\n",
    "        print('{} is divisable by {}'.format(a,i))\n",
    "    i += 1\n",
    "    \n",
    "if isDivisable:\n",
    "    print('{} not a prime NO'.format(a))\n",
    "else:\n",
    "    print('{} is a prime NO'.format(a))"
   ]
  },
  {
   "cell_type": "code",
   "execution_count": null,
   "metadata": {},
   "outputs": [],
   "source": []
  }
 ],
 "metadata": {
  "kernelspec": {
   "display_name": "Python 3",
   "language": "python",
   "name": "python3"
  },
  "language_info": {
   "codemirror_mode": {
    "name": "ipython",
    "version": 3
   },
   "file_extension": ".py",
   "mimetype": "text/x-python",
   "name": "python",
   "nbconvert_exporter": "python",
   "pygments_lexer": "ipython3",
   "version": "3.7.1"
  }
 },
 "nbformat": 4,
 "nbformat_minor": 2
}
